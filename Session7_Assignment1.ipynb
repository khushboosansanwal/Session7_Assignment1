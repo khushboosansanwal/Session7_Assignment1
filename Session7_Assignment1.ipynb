{
 "cells": [
  {
   "cell_type": "code",
   "execution_count": 1,
   "metadata": {},
   "outputs": [],
   "source": [
    "import pandas as pd"
   ]
  },
  {
   "cell_type": "code",
   "execution_count": 2,
   "metadata": {},
   "outputs": [],
   "source": [
    "#defining pandas series \n",
    "data=pd.Series([3, 5, 7, 2, 8, 10, 11, 65, 72, 81, 99, 100, 150])"
   ]
  },
  {
   "cell_type": "code",
   "execution_count": 3,
   "metadata": {},
   "outputs": [],
   "source": [
    "#rolling function will group observations into a window\n",
    "#Window size is specified as an argument to the function(trailing window is created)\n",
    "#once the window is created,we take the mean value to get the final transformed dataset\n",
    "data_moving_avg = data.rolling(3).mean()"
   ]
  },
  {
   "cell_type": "code",
   "execution_count": 4,
   "metadata": {},
   "outputs": [
    {
     "data": {
      "text/plain": [
       "0            NaN\n",
       "1            NaN\n",
       "2       5.000000\n",
       "3       4.666667\n",
       "4       5.666667\n",
       "5       6.666667\n",
       "6       9.666667\n",
       "7      28.666667\n",
       "8      49.333333\n",
       "9      72.666667\n",
       "10     84.000000\n",
       "11     93.333333\n",
       "12    116.333333\n",
       "dtype: float64"
      ]
     },
     "execution_count": 4,
     "metadata": {},
     "output_type": "execute_result"
    }
   ],
   "source": [
    "#we get 11 moving average values according to (n-k+1) , where k is the window size and n is the number of observations\n",
    "data_moving_avg"
   ]
  }
 ],
 "metadata": {
  "kernelspec": {
   "display_name": "Python 3",
   "language": "python",
   "name": "python3"
  },
  "language_info": {
   "codemirror_mode": {
    "name": "ipython",
    "version": 3
   },
   "file_extension": ".py",
   "mimetype": "text/x-python",
   "name": "python",
   "nbconvert_exporter": "python",
   "pygments_lexer": "ipython3",
   "version": "3.7.0"
  }
 },
 "nbformat": 4,
 "nbformat_minor": 2
}
